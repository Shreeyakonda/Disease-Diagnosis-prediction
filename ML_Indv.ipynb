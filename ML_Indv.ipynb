{
  "nbformat": 4,
  "nbformat_minor": 0,
  "metadata": {
    "colab": {
      "provenance": []
    },
    "kernelspec": {
      "name": "python3",
      "display_name": "Python 3"
    },
    "language_info": {
      "name": "python"
    }
  },
  "cells": [
    {
      "cell_type": "markdown",
      "source": [
        "# Data preprocessing"
      ],
      "metadata": {
        "id": "t-BmlSxXclX5"
      }
    },
    {
      "cell_type": "code",
      "execution_count": 128,
      "metadata": {
        "colab": {
          "base_uri": "https://localhost:8080/",
          "height": 206
        },
        "id": "Yleaq3oxY8z5",
        "outputId": "9e57780b-0694-4cd3-dd4c-6d02a7589bc9"
      },
      "outputs": [
        {
          "output_type": "execute_result",
          "data": {
            "text/plain": [
              "   feature_1  feature_2  feature_3  feature_4  feature_5  feature_6  \\\n",
              "0   0.374540   0.950714   0.731994   0.598658   0.156019   0.155995   \n",
              "1   0.020584   0.969910   0.832443   0.212339   0.181825   0.183405   \n",
              "2   0.611853   0.139494   0.292145   0.366362   0.456070   0.785176   \n",
              "3   0.388677   0.271349   0.828738   0.356753   0.280935   0.542696   \n",
              "4   0.772245   0.198716   0.005522   0.815461   0.706857   0.729007   \n",
              "\n",
              "   feature_7  feature_8  feature_9  feature_10  patient_id  diagnosis  \n",
              "0   0.058084   0.866176   0.601115    0.708073           1          0  \n",
              "1   0.304242   0.524756   0.431945    0.291229           2          0  \n",
              "2   0.199674   0.514234   0.592415    0.046450           3          0  \n",
              "3   0.140924   0.802197   0.074551    0.986887           7          0  \n",
              "4   0.771270   0.074045   0.358466    0.115869           8          0  "
            ],
            "text/html": [
              "\n",
              "  <div id=\"df-4159f1da-95f5-4531-880a-c3f817012ad5\" class=\"colab-df-container\">\n",
              "    <div>\n",
              "<style scoped>\n",
              "    .dataframe tbody tr th:only-of-type {\n",
              "        vertical-align: middle;\n",
              "    }\n",
              "\n",
              "    .dataframe tbody tr th {\n",
              "        vertical-align: top;\n",
              "    }\n",
              "\n",
              "    .dataframe thead th {\n",
              "        text-align: right;\n",
              "    }\n",
              "</style>\n",
              "<table border=\"1\" class=\"dataframe\">\n",
              "  <thead>\n",
              "    <tr style=\"text-align: right;\">\n",
              "      <th></th>\n",
              "      <th>feature_1</th>\n",
              "      <th>feature_2</th>\n",
              "      <th>feature_3</th>\n",
              "      <th>feature_4</th>\n",
              "      <th>feature_5</th>\n",
              "      <th>feature_6</th>\n",
              "      <th>feature_7</th>\n",
              "      <th>feature_8</th>\n",
              "      <th>feature_9</th>\n",
              "      <th>feature_10</th>\n",
              "      <th>patient_id</th>\n",
              "      <th>diagnosis</th>\n",
              "    </tr>\n",
              "  </thead>\n",
              "  <tbody>\n",
              "    <tr>\n",
              "      <th>0</th>\n",
              "      <td>0.374540</td>\n",
              "      <td>0.950714</td>\n",
              "      <td>0.731994</td>\n",
              "      <td>0.598658</td>\n",
              "      <td>0.156019</td>\n",
              "      <td>0.155995</td>\n",
              "      <td>0.058084</td>\n",
              "      <td>0.866176</td>\n",
              "      <td>0.601115</td>\n",
              "      <td>0.708073</td>\n",
              "      <td>1</td>\n",
              "      <td>0</td>\n",
              "    </tr>\n",
              "    <tr>\n",
              "      <th>1</th>\n",
              "      <td>0.020584</td>\n",
              "      <td>0.969910</td>\n",
              "      <td>0.832443</td>\n",
              "      <td>0.212339</td>\n",
              "      <td>0.181825</td>\n",
              "      <td>0.183405</td>\n",
              "      <td>0.304242</td>\n",
              "      <td>0.524756</td>\n",
              "      <td>0.431945</td>\n",
              "      <td>0.291229</td>\n",
              "      <td>2</td>\n",
              "      <td>0</td>\n",
              "    </tr>\n",
              "    <tr>\n",
              "      <th>2</th>\n",
              "      <td>0.611853</td>\n",
              "      <td>0.139494</td>\n",
              "      <td>0.292145</td>\n",
              "      <td>0.366362</td>\n",
              "      <td>0.456070</td>\n",
              "      <td>0.785176</td>\n",
              "      <td>0.199674</td>\n",
              "      <td>0.514234</td>\n",
              "      <td>0.592415</td>\n",
              "      <td>0.046450</td>\n",
              "      <td>3</td>\n",
              "      <td>0</td>\n",
              "    </tr>\n",
              "    <tr>\n",
              "      <th>3</th>\n",
              "      <td>0.388677</td>\n",
              "      <td>0.271349</td>\n",
              "      <td>0.828738</td>\n",
              "      <td>0.356753</td>\n",
              "      <td>0.280935</td>\n",
              "      <td>0.542696</td>\n",
              "      <td>0.140924</td>\n",
              "      <td>0.802197</td>\n",
              "      <td>0.074551</td>\n",
              "      <td>0.986887</td>\n",
              "      <td>7</td>\n",
              "      <td>0</td>\n",
              "    </tr>\n",
              "    <tr>\n",
              "      <th>4</th>\n",
              "      <td>0.772245</td>\n",
              "      <td>0.198716</td>\n",
              "      <td>0.005522</td>\n",
              "      <td>0.815461</td>\n",
              "      <td>0.706857</td>\n",
              "      <td>0.729007</td>\n",
              "      <td>0.771270</td>\n",
              "      <td>0.074045</td>\n",
              "      <td>0.358466</td>\n",
              "      <td>0.115869</td>\n",
              "      <td>8</td>\n",
              "      <td>0</td>\n",
              "    </tr>\n",
              "  </tbody>\n",
              "</table>\n",
              "</div>\n",
              "    <div class=\"colab-df-buttons\">\n",
              "\n",
              "  <div class=\"colab-df-container\">\n",
              "    <button class=\"colab-df-convert\" onclick=\"convertToInteractive('df-4159f1da-95f5-4531-880a-c3f817012ad5')\"\n",
              "            title=\"Convert this dataframe to an interactive table.\"\n",
              "            style=\"display:none;\">\n",
              "\n",
              "  <svg xmlns=\"http://www.w3.org/2000/svg\" height=\"24px\" viewBox=\"0 -960 960 960\">\n",
              "    <path d=\"M120-120v-720h720v720H120Zm60-500h600v-160H180v160Zm220 220h160v-160H400v160Zm0 220h160v-160H400v160ZM180-400h160v-160H180v160Zm440 0h160v-160H620v160ZM180-180h160v-160H180v160Zm440 0h160v-160H620v160Z\"/>\n",
              "  </svg>\n",
              "    </button>\n",
              "\n",
              "  <style>\n",
              "    .colab-df-container {\n",
              "      display:flex;\n",
              "      gap: 12px;\n",
              "    }\n",
              "\n",
              "    .colab-df-convert {\n",
              "      background-color: #E8F0FE;\n",
              "      border: none;\n",
              "      border-radius: 50%;\n",
              "      cursor: pointer;\n",
              "      display: none;\n",
              "      fill: #1967D2;\n",
              "      height: 32px;\n",
              "      padding: 0 0 0 0;\n",
              "      width: 32px;\n",
              "    }\n",
              "\n",
              "    .colab-df-convert:hover {\n",
              "      background-color: #E2EBFA;\n",
              "      box-shadow: 0px 1px 2px rgba(60, 64, 67, 0.3), 0px 1px 3px 1px rgba(60, 64, 67, 0.15);\n",
              "      fill: #174EA6;\n",
              "    }\n",
              "\n",
              "    .colab-df-buttons div {\n",
              "      margin-bottom: 4px;\n",
              "    }\n",
              "\n",
              "    [theme=dark] .colab-df-convert {\n",
              "      background-color: #3B4455;\n",
              "      fill: #D2E3FC;\n",
              "    }\n",
              "\n",
              "    [theme=dark] .colab-df-convert:hover {\n",
              "      background-color: #434B5C;\n",
              "      box-shadow: 0px 1px 3px 1px rgba(0, 0, 0, 0.15);\n",
              "      filter: drop-shadow(0px 1px 2px rgba(0, 0, 0, 0.3));\n",
              "      fill: #FFFFFF;\n",
              "    }\n",
              "  </style>\n",
              "\n",
              "    <script>\n",
              "      const buttonEl =\n",
              "        document.querySelector('#df-4159f1da-95f5-4531-880a-c3f817012ad5 button.colab-df-convert');\n",
              "      buttonEl.style.display =\n",
              "        google.colab.kernel.accessAllowed ? 'block' : 'none';\n",
              "\n",
              "      async function convertToInteractive(key) {\n",
              "        const element = document.querySelector('#df-4159f1da-95f5-4531-880a-c3f817012ad5');\n",
              "        const dataTable =\n",
              "          await google.colab.kernel.invokeFunction('convertToInteractive',\n",
              "                                                    [key], {});\n",
              "        if (!dataTable) return;\n",
              "\n",
              "        const docLinkHtml = 'Like what you see? Visit the ' +\n",
              "          '<a target=\"_blank\" href=https://colab.research.google.com/notebooks/data_table.ipynb>data table notebook</a>'\n",
              "          + ' to learn more about interactive tables.';\n",
              "        element.innerHTML = '';\n",
              "        dataTable['output_type'] = 'display_data';\n",
              "        await google.colab.output.renderOutput(dataTable, element);\n",
              "        const docLink = document.createElement('div');\n",
              "        docLink.innerHTML = docLinkHtml;\n",
              "        element.appendChild(docLink);\n",
              "      }\n",
              "    </script>\n",
              "  </div>\n",
              "\n",
              "\n",
              "<div id=\"df-21b23b06-0d29-4585-9cfe-058065d7cb59\">\n",
              "  <button class=\"colab-df-quickchart\" onclick=\"quickchart('df-21b23b06-0d29-4585-9cfe-058065d7cb59')\"\n",
              "            title=\"Suggest charts\"\n",
              "            style=\"display:none;\">\n",
              "\n",
              "<svg xmlns=\"http://www.w3.org/2000/svg\" height=\"24px\"viewBox=\"0 0 24 24\"\n",
              "     width=\"24px\">\n",
              "    <g>\n",
              "        <path d=\"M19 3H5c-1.1 0-2 .9-2 2v14c0 1.1.9 2 2 2h14c1.1 0 2-.9 2-2V5c0-1.1-.9-2-2-2zM9 17H7v-7h2v7zm4 0h-2V7h2v10zm4 0h-2v-4h2v4z\"/>\n",
              "    </g>\n",
              "</svg>\n",
              "  </button>\n",
              "\n",
              "<style>\n",
              "  .colab-df-quickchart {\n",
              "      --bg-color: #E8F0FE;\n",
              "      --fill-color: #1967D2;\n",
              "      --hover-bg-color: #E2EBFA;\n",
              "      --hover-fill-color: #174EA6;\n",
              "      --disabled-fill-color: #AAA;\n",
              "      --disabled-bg-color: #DDD;\n",
              "  }\n",
              "\n",
              "  [theme=dark] .colab-df-quickchart {\n",
              "      --bg-color: #3B4455;\n",
              "      --fill-color: #D2E3FC;\n",
              "      --hover-bg-color: #434B5C;\n",
              "      --hover-fill-color: #FFFFFF;\n",
              "      --disabled-bg-color: #3B4455;\n",
              "      --disabled-fill-color: #666;\n",
              "  }\n",
              "\n",
              "  .colab-df-quickchart {\n",
              "    background-color: var(--bg-color);\n",
              "    border: none;\n",
              "    border-radius: 50%;\n",
              "    cursor: pointer;\n",
              "    display: none;\n",
              "    fill: var(--fill-color);\n",
              "    height: 32px;\n",
              "    padding: 0;\n",
              "    width: 32px;\n",
              "  }\n",
              "\n",
              "  .colab-df-quickchart:hover {\n",
              "    background-color: var(--hover-bg-color);\n",
              "    box-shadow: 0 1px 2px rgba(60, 64, 67, 0.3), 0 1px 3px 1px rgba(60, 64, 67, 0.15);\n",
              "    fill: var(--button-hover-fill-color);\n",
              "  }\n",
              "\n",
              "  .colab-df-quickchart-complete:disabled,\n",
              "  .colab-df-quickchart-complete:disabled:hover {\n",
              "    background-color: var(--disabled-bg-color);\n",
              "    fill: var(--disabled-fill-color);\n",
              "    box-shadow: none;\n",
              "  }\n",
              "\n",
              "  .colab-df-spinner {\n",
              "    border: 2px solid var(--fill-color);\n",
              "    border-color: transparent;\n",
              "    border-bottom-color: var(--fill-color);\n",
              "    animation:\n",
              "      spin 1s steps(1) infinite;\n",
              "  }\n",
              "\n",
              "  @keyframes spin {\n",
              "    0% {\n",
              "      border-color: transparent;\n",
              "      border-bottom-color: var(--fill-color);\n",
              "      border-left-color: var(--fill-color);\n",
              "    }\n",
              "    20% {\n",
              "      border-color: transparent;\n",
              "      border-left-color: var(--fill-color);\n",
              "      border-top-color: var(--fill-color);\n",
              "    }\n",
              "    30% {\n",
              "      border-color: transparent;\n",
              "      border-left-color: var(--fill-color);\n",
              "      border-top-color: var(--fill-color);\n",
              "      border-right-color: var(--fill-color);\n",
              "    }\n",
              "    40% {\n",
              "      border-color: transparent;\n",
              "      border-right-color: var(--fill-color);\n",
              "      border-top-color: var(--fill-color);\n",
              "    }\n",
              "    60% {\n",
              "      border-color: transparent;\n",
              "      border-right-color: var(--fill-color);\n",
              "    }\n",
              "    80% {\n",
              "      border-color: transparent;\n",
              "      border-right-color: var(--fill-color);\n",
              "      border-bottom-color: var(--fill-color);\n",
              "    }\n",
              "    90% {\n",
              "      border-color: transparent;\n",
              "      border-bottom-color: var(--fill-color);\n",
              "    }\n",
              "  }\n",
              "</style>\n",
              "\n",
              "  <script>\n",
              "    async function quickchart(key) {\n",
              "      const quickchartButtonEl =\n",
              "        document.querySelector('#' + key + ' button');\n",
              "      quickchartButtonEl.disabled = true;  // To prevent multiple clicks.\n",
              "      quickchartButtonEl.classList.add('colab-df-spinner');\n",
              "      try {\n",
              "        const charts = await google.colab.kernel.invokeFunction(\n",
              "            'suggestCharts', [key], {});\n",
              "      } catch (error) {\n",
              "        console.error('Error during call to suggestCharts:', error);\n",
              "      }\n",
              "      quickchartButtonEl.classList.remove('colab-df-spinner');\n",
              "      quickchartButtonEl.classList.add('colab-df-quickchart-complete');\n",
              "    }\n",
              "    (() => {\n",
              "      let quickchartButtonEl =\n",
              "        document.querySelector('#df-21b23b06-0d29-4585-9cfe-058065d7cb59 button');\n",
              "      quickchartButtonEl.style.display =\n",
              "        google.colab.kernel.accessAllowed ? 'block' : 'none';\n",
              "    })();\n",
              "  </script>\n",
              "</div>\n",
              "\n",
              "    </div>\n",
              "  </div>\n"
            ],
            "application/vnd.google.colaboratory.intrinsic+json": {
              "type": "dataframe",
              "variable_name": "training_dataframe",
              "summary": "{\n  \"name\": \"training_dataframe\",\n  \"rows\": 4000,\n  \"fields\": [\n    {\n      \"column\": \"feature_1\",\n      \"properties\": {\n        \"dtype\": \"number\",\n        \"std\": 0.28895268668778645,\n        \"min\": 0.0001251387565754,\n        \"max\": 0.9998051441338016,\n        \"num_unique_values\": 4000,\n        \"samples\": [\n          0.2874025338454825,\n          0.8210674388113107,\n          0.0881422433907921\n        ],\n        \"semantic_type\": \"\",\n        \"description\": \"\"\n      }\n    },\n    {\n      \"column\": \"feature_2\",\n      \"properties\": {\n        \"dtype\": \"number\",\n        \"std\": 0.2914940721266054,\n        \"min\": 1.6736257934746313e-05,\n        \"max\": 0.9997893718125952,\n        \"num_unique_values\": 4000,\n        \"samples\": [\n          0.5578791835778856,\n          0.1982568567309076,\n          0.4136655235832069\n        ],\n        \"semantic_type\": \"\",\n        \"description\": \"\"\n      }\n    },\n    {\n      \"column\": \"feature_3\",\n      \"properties\": {\n        \"dtype\": \"number\",\n        \"std\": 0.28639042615050925,\n        \"min\": 1.1634755366141114e-05,\n        \"max\": 0.9999569543687702,\n        \"num_unique_values\": 4000,\n        \"samples\": [\n          0.3043075918208643,\n          0.547864749895069,\n          0.750160832954601\n        ],\n        \"semantic_type\": \"\",\n        \"description\": \"\"\n      }\n    },\n    {\n      \"column\": \"feature_4\",\n      \"properties\": {\n        \"dtype\": \"number\",\n        \"std\": 0.28848627588976805,\n        \"min\": 0.0001577445780567,\n        \"max\": 0.9999009770092316,\n        \"num_unique_values\": 4000,\n        \"samples\": [\n          0.0864575071201523,\n          0.4464071980060199,\n          0.693400853429044\n        ],\n        \"semantic_type\": \"\",\n        \"description\": \"\"\n      }\n    },\n    {\n      \"column\": \"feature_5\",\n      \"properties\": {\n        \"dtype\": \"number\",\n        \"std\": 0.28758469327652314,\n        \"min\": 0.0001346930044853,\n        \"max\": 0.99924058022444,\n        \"num_unique_values\": 4000,\n        \"samples\": [\n          0.0014283430791767,\n          0.325826242340136,\n          0.990642737172179\n        ],\n        \"semantic_type\": \"\",\n        \"description\": \"\"\n      }\n    },\n    {\n      \"column\": \"feature_6\",\n      \"properties\": {\n        \"dtype\": \"number\",\n        \"std\": 0.2899117772784199,\n        \"min\": 4.81238943117468e-05,\n        \"max\": 0.999697209659069,\n        \"num_unique_values\": 4000,\n        \"samples\": [\n          0.4495833529202623,\n          0.6183464134544641,\n          0.277891125987756\n        ],\n        \"semantic_type\": \"\",\n        \"description\": \"\"\n      }\n    },\n    {\n      \"column\": \"feature_7\",\n      \"properties\": {\n        \"dtype\": \"number\",\n        \"std\": 0.28711436427623693,\n        \"min\": 5.536675737993768e-06,\n        \"max\": 0.9999721473679823,\n        \"num_unique_values\": 4000,\n        \"samples\": [\n          0.8368634222265923,\n          0.5023257893301956,\n          0.4981892991739791\n        ],\n        \"semantic_type\": \"\",\n        \"description\": \"\"\n      }\n    },\n    {\n      \"column\": \"feature_8\",\n      \"properties\": {\n        \"dtype\": \"number\",\n        \"std\": 0.2887565136207407,\n        \"min\": 5.282693229680113e-05,\n        \"max\": 0.9998237501968622,\n        \"num_unique_values\": 4000,\n        \"samples\": [\n          0.5723151856300766,\n          0.334763173484582,\n          0.3295304137739967\n        ],\n        \"semantic_type\": \"\",\n        \"description\": \"\"\n      }\n    },\n    {\n      \"column\": \"feature_9\",\n      \"properties\": {\n        \"dtype\": \"number\",\n        \"std\": 0.28677925348586125,\n        \"min\": 0.0001102318018224,\n        \"max\": 0.9993503004722002,\n        \"num_unique_values\": 4000,\n        \"samples\": [\n          0.9992072989434408,\n          0.6888508851200049,\n          0.4406031140591747\n        ],\n        \"semantic_type\": \"\",\n        \"description\": \"\"\n      }\n    },\n    {\n      \"column\": \"feature_10\",\n      \"properties\": {\n        \"dtype\": \"number\",\n        \"std\": 0.2894829270345466,\n        \"min\": 0.0003110125288008,\n        \"max\": 0.9996732052420922,\n        \"num_unique_values\": 4000,\n        \"samples\": [\n          0.2868466456471999,\n          0.2799681910385398,\n          0.8569501298693881\n        ],\n        \"semantic_type\": \"\",\n        \"description\": \"\"\n      }\n    },\n    {\n      \"column\": \"patient_id\",\n      \"properties\": {\n        \"dtype\": \"number\",\n        \"std\": 1454,\n        \"min\": 1,\n        \"max\": 5000,\n        \"num_unique_values\": 4000,\n        \"samples\": [\n          676,\n          4378,\n          640\n        ],\n        \"semantic_type\": \"\",\n        \"description\": \"\"\n      }\n    },\n    {\n      \"column\": \"diagnosis\",\n      \"properties\": {\n        \"dtype\": \"number\",\n        \"std\": 0,\n        \"min\": 0,\n        \"max\": 1,\n        \"num_unique_values\": 2,\n        \"samples\": [\n          1,\n          0\n        ],\n        \"semantic_type\": \"\",\n        \"description\": \"\"\n      }\n    }\n  ]\n}"
            }
          },
          "metadata": {},
          "execution_count": 128
        }
      ],
      "source": [
        "# importing the libraries\n",
        "import numpy as np\n",
        "import matplotlib.pyplot as plt\n",
        "import pandas as pd\n",
        "\n",
        "# Loading the training dataset\n",
        "training_dataframe = pd.read_csv('/content/Disease_train.csv')\n",
        "# displaying first few rows of training data\n",
        "training_dataframe.head()"
      ]
    },
    {
      "cell_type": "code",
      "source": [
        "# Describing the training data\n",
        "# basic statistics of training data\n",
        "print('Basic Statistics of training data')\n",
        "print(training_dataframe.describe().T)\n",
        "print('-----------------------------x-------------------------')\n",
        "# data types\n",
        "print('data types of the training data ')\n",
        "print(training_dataframe.dtypes)\n",
        "print('-----------------------------x-------------------------')\n",
        "# getting the features names\n",
        "print('data columns of the training data')\n",
        "print(training_dataframe.columns)\n",
        "print('-----------------------------x-------------------------')\n",
        "# shape of the data\n",
        "print('shape of the training data')\n",
        "print(training_dataframe.shape)"
      ],
      "metadata": {
        "colab": {
          "base_uri": "https://localhost:8080/"
        },
        "id": "4kTH1O-9Zq7i",
        "outputId": "fc57c8c1-628f-4c74-bf39-67548f5e4073"
      },
      "execution_count": 129,
      "outputs": [
        {
          "output_type": "stream",
          "name": "stdout",
          "text": [
            "Basic Statistics of training data\n",
            "             count         mean          std       min          25%  \\\n",
            "feature_1   4000.0     0.496069     0.288953  0.000125     0.247032   \n",
            "feature_2   4000.0     0.491044     0.291494  0.000017     0.234190   \n",
            "feature_3   4000.0     0.503519     0.286390  0.000012     0.251840   \n",
            "feature_4   4000.0     0.502119     0.288486  0.000158     0.253933   \n",
            "feature_5   4000.0     0.495318     0.287585  0.000135     0.248068   \n",
            "feature_6   4000.0     0.507759     0.289912  0.000048     0.257390   \n",
            "feature_7   4000.0     0.497923     0.287114  0.000006     0.252403   \n",
            "feature_8   4000.0     0.497090     0.288757  0.000053     0.251845   \n",
            "feature_9   4000.0     0.501020     0.286779  0.000110     0.249991   \n",
            "feature_10  4000.0     0.494890     0.289483  0.000311     0.243098   \n",
            "patient_id  4000.0  2496.694750  1454.334003  1.000000  1234.750000   \n",
            "diagnosis   4000.0     0.049000     0.215895  0.000000     0.000000   \n",
            "\n",
            "                    50%          75%          max  \n",
            "feature_1      0.494948     0.748640     0.999805  \n",
            "feature_2      0.492201     0.745044     0.999789  \n",
            "feature_3      0.504478     0.748674     0.999957  \n",
            "feature_4      0.505861     0.748107     0.999901  \n",
            "feature_5      0.496022     0.745684     0.999241  \n",
            "feature_6      0.508030     0.765333     0.999697  \n",
            "feature_7      0.500362     0.741808     0.999972  \n",
            "feature_8      0.494209     0.752467     0.999824  \n",
            "feature_9      0.503962     0.745230     0.999350  \n",
            "feature_10     0.492061     0.743099     0.999673  \n",
            "patient_id  2493.500000  3771.250000  5000.000000  \n",
            "diagnosis      0.000000     0.000000     1.000000  \n",
            "-----------------------------x-------------------------\n",
            "data types of the training data \n",
            "feature_1     float64\n",
            "feature_2     float64\n",
            "feature_3     float64\n",
            "feature_4     float64\n",
            "feature_5     float64\n",
            "feature_6     float64\n",
            "feature_7     float64\n",
            "feature_8     float64\n",
            "feature_9     float64\n",
            "feature_10    float64\n",
            "patient_id      int64\n",
            "diagnosis       int64\n",
            "dtype: object\n",
            "-----------------------------x-------------------------\n",
            "data columns of the training data\n",
            "Index(['feature_1', 'feature_2', 'feature_3', 'feature_4', 'feature_5',\n",
            "       'feature_6', 'feature_7', 'feature_8', 'feature_9', 'feature_10',\n",
            "       'patient_id', 'diagnosis'],\n",
            "      dtype='object')\n",
            "-----------------------------x-------------------------\n",
            "shape of the training data\n",
            "(4000, 12)\n"
          ]
        }
      ]
    },
    {
      "cell_type": "code",
      "source": [
        "# Checking for missing values in training data\n",
        "print('missing values in training data')\n",
        "print(training_dataframe.isnull().sum())"
      ],
      "metadata": {
        "colab": {
          "base_uri": "https://localhost:8080/"
        },
        "id": "VD4HKtiPZ49b",
        "outputId": "c897e6ef-f293-4e46-c052-52d50ab888f1"
      },
      "execution_count": 130,
      "outputs": [
        {
          "output_type": "stream",
          "name": "stdout",
          "text": [
            "missing values in training data\n",
            "feature_1     0\n",
            "feature_2     0\n",
            "feature_3     0\n",
            "feature_4     0\n",
            "feature_5     0\n",
            "feature_6     0\n",
            "feature_7     0\n",
            "feature_8     0\n",
            "feature_9     0\n",
            "feature_10    0\n",
            "patient_id    0\n",
            "diagnosis     0\n",
            "dtype: int64\n"
          ]
        }
      ]
    },
    {
      "cell_type": "code",
      "source": [
        "#Checking for duplicates\n",
        "print('Duplicates sum in the training data')\n",
        "print(training_dataframe.duplicated().sum())"
      ],
      "metadata": {
        "colab": {
          "base_uri": "https://localhost:8080/"
        },
        "id": "4rW51VDnYnI1",
        "outputId": "4cc558bf-c59a-450a-b58e-5b52425f7a6a"
      },
      "execution_count": 131,
      "outputs": [
        {
          "output_type": "stream",
          "name": "stdout",
          "text": [
            "Duplicates sum in the training data\n",
            "0\n"
          ]
        }
      ]
    },
    {
      "cell_type": "code",
      "source": [
        "# checking for numeric features\n",
        "numeric_columns = training_dataframe.select_dtypes(include=['number'])\n",
        "print('no of numeric features:')\n",
        "print(len(numeric_columns.columns.tolist()))\n",
        "\n",
        "# checking for categorical features\n",
        "categorical_columns = training_dataframe.select_dtypes(include=['object'])\n",
        "print('no of categorical features:')\n",
        "print(len(categorical_columns.columns.tolist()))"
      ],
      "metadata": {
        "colab": {
          "base_uri": "https://localhost:8080/"
        },
        "id": "nTIgc9XOaG96",
        "outputId": "fe84286e-613c-4bc2-c9b7-3718c780d8a5"
      },
      "execution_count": 132,
      "outputs": [
        {
          "output_type": "stream",
          "name": "stdout",
          "text": [
            "no of numeric features:\n",
            "12\n",
            "no of categorical features:\n",
            "0\n"
          ]
        }
      ]
    },
    {
      "cell_type": "code",
      "source": [
        "#Feature Engineering and Scaling\n",
        "# Checking for distribution of Target variable\n",
        "training_dataframe['diagnosis'].value_counts()"
      ],
      "metadata": {
        "colab": {
          "base_uri": "https://localhost:8080/"
        },
        "id": "tYdpmcLWaOdh",
        "outputId": "6aaf67f4-b5d4-463e-faf1-0b0ed0b13026"
      },
      "execution_count": 133,
      "outputs": [
        {
          "output_type": "execute_result",
          "data": {
            "text/plain": [
              "diagnosis\n",
              "0    3804\n",
              "1     196\n",
              "Name: count, dtype: int64"
            ]
          },
          "metadata": {},
          "execution_count": 133
        }
      ]
    },
    {
      "cell_type": "code",
      "source": [
        "# grouping the data based on target variable\n",
        "training_dataframe.groupby('diagnosis').mean().T"
      ],
      "metadata": {
        "colab": {
          "base_uri": "https://localhost:8080/",
          "height": 394
        },
        "id": "CjWbmqWwaj4d",
        "outputId": "37503048-e317-4ef5-acf4-3c83da94f282"
      },
      "execution_count": 134,
      "outputs": [
        {
          "output_type": "execute_result",
          "data": {
            "text/plain": [
              "diagnosis             0            1\n",
              "feature_1      0.497078     0.476469\n",
              "feature_2      0.489512     0.520784\n",
              "feature_3      0.504197     0.490369\n",
              "feature_4      0.501441     0.515270\n",
              "feature_5      0.494965     0.502178\n",
              "feature_6      0.507514     0.512515\n",
              "feature_7      0.498704     0.482772\n",
              "feature_8      0.496204     0.514267\n",
              "feature_9      0.500113     0.518616\n",
              "feature_10     0.496106     0.471296\n",
              "patient_id  2492.920347  2569.948980"
            ],
            "text/html": [
              "\n",
              "  <div id=\"df-98279a73-64d6-40dc-b6dc-513e0eb3ce2f\" class=\"colab-df-container\">\n",
              "    <div>\n",
              "<style scoped>\n",
              "    .dataframe tbody tr th:only-of-type {\n",
              "        vertical-align: middle;\n",
              "    }\n",
              "\n",
              "    .dataframe tbody tr th {\n",
              "        vertical-align: top;\n",
              "    }\n",
              "\n",
              "    .dataframe thead th {\n",
              "        text-align: right;\n",
              "    }\n",
              "</style>\n",
              "<table border=\"1\" class=\"dataframe\">\n",
              "  <thead>\n",
              "    <tr style=\"text-align: right;\">\n",
              "      <th>diagnosis</th>\n",
              "      <th>0</th>\n",
              "      <th>1</th>\n",
              "    </tr>\n",
              "  </thead>\n",
              "  <tbody>\n",
              "    <tr>\n",
              "      <th>feature_1</th>\n",
              "      <td>0.497078</td>\n",
              "      <td>0.476469</td>\n",
              "    </tr>\n",
              "    <tr>\n",
              "      <th>feature_2</th>\n",
              "      <td>0.489512</td>\n",
              "      <td>0.520784</td>\n",
              "    </tr>\n",
              "    <tr>\n",
              "      <th>feature_3</th>\n",
              "      <td>0.504197</td>\n",
              "      <td>0.490369</td>\n",
              "    </tr>\n",
              "    <tr>\n",
              "      <th>feature_4</th>\n",
              "      <td>0.501441</td>\n",
              "      <td>0.515270</td>\n",
              "    </tr>\n",
              "    <tr>\n",
              "      <th>feature_5</th>\n",
              "      <td>0.494965</td>\n",
              "      <td>0.502178</td>\n",
              "    </tr>\n",
              "    <tr>\n",
              "      <th>feature_6</th>\n",
              "      <td>0.507514</td>\n",
              "      <td>0.512515</td>\n",
              "    </tr>\n",
              "    <tr>\n",
              "      <th>feature_7</th>\n",
              "      <td>0.498704</td>\n",
              "      <td>0.482772</td>\n",
              "    </tr>\n",
              "    <tr>\n",
              "      <th>feature_8</th>\n",
              "      <td>0.496204</td>\n",
              "      <td>0.514267</td>\n",
              "    </tr>\n",
              "    <tr>\n",
              "      <th>feature_9</th>\n",
              "      <td>0.500113</td>\n",
              "      <td>0.518616</td>\n",
              "    </tr>\n",
              "    <tr>\n",
              "      <th>feature_10</th>\n",
              "      <td>0.496106</td>\n",
              "      <td>0.471296</td>\n",
              "    </tr>\n",
              "    <tr>\n",
              "      <th>patient_id</th>\n",
              "      <td>2492.920347</td>\n",
              "      <td>2569.948980</td>\n",
              "    </tr>\n",
              "  </tbody>\n",
              "</table>\n",
              "</div>\n",
              "    <div class=\"colab-df-buttons\">\n",
              "\n",
              "  <div class=\"colab-df-container\">\n",
              "    <button class=\"colab-df-convert\" onclick=\"convertToInteractive('df-98279a73-64d6-40dc-b6dc-513e0eb3ce2f')\"\n",
              "            title=\"Convert this dataframe to an interactive table.\"\n",
              "            style=\"display:none;\">\n",
              "\n",
              "  <svg xmlns=\"http://www.w3.org/2000/svg\" height=\"24px\" viewBox=\"0 -960 960 960\">\n",
              "    <path d=\"M120-120v-720h720v720H120Zm60-500h600v-160H180v160Zm220 220h160v-160H400v160Zm0 220h160v-160H400v160ZM180-400h160v-160H180v160Zm440 0h160v-160H620v160ZM180-180h160v-160H180v160Zm440 0h160v-160H620v160Z\"/>\n",
              "  </svg>\n",
              "    </button>\n",
              "\n",
              "  <style>\n",
              "    .colab-df-container {\n",
              "      display:flex;\n",
              "      gap: 12px;\n",
              "    }\n",
              "\n",
              "    .colab-df-convert {\n",
              "      background-color: #E8F0FE;\n",
              "      border: none;\n",
              "      border-radius: 50%;\n",
              "      cursor: pointer;\n",
              "      display: none;\n",
              "      fill: #1967D2;\n",
              "      height: 32px;\n",
              "      padding: 0 0 0 0;\n",
              "      width: 32px;\n",
              "    }\n",
              "\n",
              "    .colab-df-convert:hover {\n",
              "      background-color: #E2EBFA;\n",
              "      box-shadow: 0px 1px 2px rgba(60, 64, 67, 0.3), 0px 1px 3px 1px rgba(60, 64, 67, 0.15);\n",
              "      fill: #174EA6;\n",
              "    }\n",
              "\n",
              "    .colab-df-buttons div {\n",
              "      margin-bottom: 4px;\n",
              "    }\n",
              "\n",
              "    [theme=dark] .colab-df-convert {\n",
              "      background-color: #3B4455;\n",
              "      fill: #D2E3FC;\n",
              "    }\n",
              "\n",
              "    [theme=dark] .colab-df-convert:hover {\n",
              "      background-color: #434B5C;\n",
              "      box-shadow: 0px 1px 3px 1px rgba(0, 0, 0, 0.15);\n",
              "      filter: drop-shadow(0px 1px 2px rgba(0, 0, 0, 0.3));\n",
              "      fill: #FFFFFF;\n",
              "    }\n",
              "  </style>\n",
              "\n",
              "    <script>\n",
              "      const buttonEl =\n",
              "        document.querySelector('#df-98279a73-64d6-40dc-b6dc-513e0eb3ce2f button.colab-df-convert');\n",
              "      buttonEl.style.display =\n",
              "        google.colab.kernel.accessAllowed ? 'block' : 'none';\n",
              "\n",
              "      async function convertToInteractive(key) {\n",
              "        const element = document.querySelector('#df-98279a73-64d6-40dc-b6dc-513e0eb3ce2f');\n",
              "        const dataTable =\n",
              "          await google.colab.kernel.invokeFunction('convertToInteractive',\n",
              "                                                    [key], {});\n",
              "        if (!dataTable) return;\n",
              "\n",
              "        const docLinkHtml = 'Like what you see? Visit the ' +\n",
              "          '<a target=\"_blank\" href=https://colab.research.google.com/notebooks/data_table.ipynb>data table notebook</a>'\n",
              "          + ' to learn more about interactive tables.';\n",
              "        element.innerHTML = '';\n",
              "        dataTable['output_type'] = 'display_data';\n",
              "        await google.colab.output.renderOutput(dataTable, element);\n",
              "        const docLink = document.createElement('div');\n",
              "        docLink.innerHTML = docLinkHtml;\n",
              "        element.appendChild(docLink);\n",
              "      }\n",
              "    </script>\n",
              "  </div>\n",
              "\n",
              "\n",
              "<div id=\"df-a0555c88-e2bc-46a4-917c-d8b73c495b14\">\n",
              "  <button class=\"colab-df-quickchart\" onclick=\"quickchart('df-a0555c88-e2bc-46a4-917c-d8b73c495b14')\"\n",
              "            title=\"Suggest charts\"\n",
              "            style=\"display:none;\">\n",
              "\n",
              "<svg xmlns=\"http://www.w3.org/2000/svg\" height=\"24px\"viewBox=\"0 0 24 24\"\n",
              "     width=\"24px\">\n",
              "    <g>\n",
              "        <path d=\"M19 3H5c-1.1 0-2 .9-2 2v14c0 1.1.9 2 2 2h14c1.1 0 2-.9 2-2V5c0-1.1-.9-2-2-2zM9 17H7v-7h2v7zm4 0h-2V7h2v10zm4 0h-2v-4h2v4z\"/>\n",
              "    </g>\n",
              "</svg>\n",
              "  </button>\n",
              "\n",
              "<style>\n",
              "  .colab-df-quickchart {\n",
              "      --bg-color: #E8F0FE;\n",
              "      --fill-color: #1967D2;\n",
              "      --hover-bg-color: #E2EBFA;\n",
              "      --hover-fill-color: #174EA6;\n",
              "      --disabled-fill-color: #AAA;\n",
              "      --disabled-bg-color: #DDD;\n",
              "  }\n",
              "\n",
              "  [theme=dark] .colab-df-quickchart {\n",
              "      --bg-color: #3B4455;\n",
              "      --fill-color: #D2E3FC;\n",
              "      --hover-bg-color: #434B5C;\n",
              "      --hover-fill-color: #FFFFFF;\n",
              "      --disabled-bg-color: #3B4455;\n",
              "      --disabled-fill-color: #666;\n",
              "  }\n",
              "\n",
              "  .colab-df-quickchart {\n",
              "    background-color: var(--bg-color);\n",
              "    border: none;\n",
              "    border-radius: 50%;\n",
              "    cursor: pointer;\n",
              "    display: none;\n",
              "    fill: var(--fill-color);\n",
              "    height: 32px;\n",
              "    padding: 0;\n",
              "    width: 32px;\n",
              "  }\n",
              "\n",
              "  .colab-df-quickchart:hover {\n",
              "    background-color: var(--hover-bg-color);\n",
              "    box-shadow: 0 1px 2px rgba(60, 64, 67, 0.3), 0 1px 3px 1px rgba(60, 64, 67, 0.15);\n",
              "    fill: var(--button-hover-fill-color);\n",
              "  }\n",
              "\n",
              "  .colab-df-quickchart-complete:disabled,\n",
              "  .colab-df-quickchart-complete:disabled:hover {\n",
              "    background-color: var(--disabled-bg-color);\n",
              "    fill: var(--disabled-fill-color);\n",
              "    box-shadow: none;\n",
              "  }\n",
              "\n",
              "  .colab-df-spinner {\n",
              "    border: 2px solid var(--fill-color);\n",
              "    border-color: transparent;\n",
              "    border-bottom-color: var(--fill-color);\n",
              "    animation:\n",
              "      spin 1s steps(1) infinite;\n",
              "  }\n",
              "\n",
              "  @keyframes spin {\n",
              "    0% {\n",
              "      border-color: transparent;\n",
              "      border-bottom-color: var(--fill-color);\n",
              "      border-left-color: var(--fill-color);\n",
              "    }\n",
              "    20% {\n",
              "      border-color: transparent;\n",
              "      border-left-color: var(--fill-color);\n",
              "      border-top-color: var(--fill-color);\n",
              "    }\n",
              "    30% {\n",
              "      border-color: transparent;\n",
              "      border-left-color: var(--fill-color);\n",
              "      border-top-color: var(--fill-color);\n",
              "      border-right-color: var(--fill-color);\n",
              "    }\n",
              "    40% {\n",
              "      border-color: transparent;\n",
              "      border-right-color: var(--fill-color);\n",
              "      border-top-color: var(--fill-color);\n",
              "    }\n",
              "    60% {\n",
              "      border-color: transparent;\n",
              "      border-right-color: var(--fill-color);\n",
              "    }\n",
              "    80% {\n",
              "      border-color: transparent;\n",
              "      border-right-color: var(--fill-color);\n",
              "      border-bottom-color: var(--fill-color);\n",
              "    }\n",
              "    90% {\n",
              "      border-color: transparent;\n",
              "      border-bottom-color: var(--fill-color);\n",
              "    }\n",
              "  }\n",
              "</style>\n",
              "\n",
              "  <script>\n",
              "    async function quickchart(key) {\n",
              "      const quickchartButtonEl =\n",
              "        document.querySelector('#' + key + ' button');\n",
              "      quickchartButtonEl.disabled = true;  // To prevent multiple clicks.\n",
              "      quickchartButtonEl.classList.add('colab-df-spinner');\n",
              "      try {\n",
              "        const charts = await google.colab.kernel.invokeFunction(\n",
              "            'suggestCharts', [key], {});\n",
              "      } catch (error) {\n",
              "        console.error('Error during call to suggestCharts:', error);\n",
              "      }\n",
              "      quickchartButtonEl.classList.remove('colab-df-spinner');\n",
              "      quickchartButtonEl.classList.add('colab-df-quickchart-complete');\n",
              "    }\n",
              "    (() => {\n",
              "      let quickchartButtonEl =\n",
              "        document.querySelector('#df-a0555c88-e2bc-46a4-917c-d8b73c495b14 button');\n",
              "      quickchartButtonEl.style.display =\n",
              "        google.colab.kernel.accessAllowed ? 'block' : 'none';\n",
              "    })();\n",
              "  </script>\n",
              "</div>\n",
              "\n",
              "    </div>\n",
              "  </div>\n"
            ],
            "application/vnd.google.colaboratory.intrinsic+json": {
              "type": "dataframe",
              "summary": "{\n  \"name\": \"training_dataframe\",\n  \"rows\": 11,\n  \"fields\": [\n    {\n      \"column\": 0,\n      \"properties\": {\n        \"dtype\": \"number\",\n        \"std\": 751.4934372039667,\n        \"min\": 0.48951173958552563,\n        \"max\": 2492.9203470031543,\n        \"num_unique_values\": 11,\n        \"samples\": [\n          0.5075141718404904,\n          0.49707835735209155,\n          0.4961055546037449\n        ],\n        \"semantic_type\": \"\",\n        \"description\": \"\"\n      }\n    },\n    {\n      \"column\": 1,\n      \"properties\": {\n        \"dtype\": \"number\",\n        \"std\": 774.717880090656,\n        \"min\": 0.4712955840973957,\n        \"max\": 2569.9489795918366,\n        \"num_unique_values\": 11,\n        \"samples\": [\n          0.5125147564811048,\n          0.47646922399001757,\n          0.4712955840973957\n        ],\n        \"semantic_type\": \"\",\n        \"description\": \"\"\n      }\n    }\n  ]\n}"
            }
          },
          "metadata": {},
          "execution_count": 134
        }
      ]
    },
    {
      "cell_type": "code",
      "source": [
        "#Distribution of the target variable\n",
        "plt.figure(figsize=(10, 5))\n",
        "plt.bar(training_dataframe['diagnosis'].value_counts().index, training_dataframe['diagnosis'].value_counts().values, color='green')\n",
        "plt.xlabel('Diagnosis')\n",
        "plt.ylabel('Count')\n",
        "plt.title('Distribution of Diagnosis')\n",
        "plt.show()"
      ],
      "metadata": {
        "colab": {
          "base_uri": "https://localhost:8080/",
          "height": 487
        },
        "id": "VpjjrY0zacDg",
        "outputId": "12f802d5-8028-4cac-cb75-dabeec9fcd0f"
      },
      "execution_count": 135,
      "outputs": [
        {
          "output_type": "display_data",
          "data": {
            "text/plain": [
              "<Figure size 1000x500 with 1 Axes>"
            ],
            "image/png": "[encoded data removed]"
          },
          "metadata": {}
        }
      ]
    },
    {
      "cell_type": "code",
      "source": [
        "# Separating the features and Target variable\n",
        "# dropping the patient_id column\n",
        "X_train_data = training_dataframe.drop(columns=['diagnosis','patient_id'],axis=1)\n",
        "Y_train_data = training_dataframe[['diagnosis']]\n",
        "print('training data without diagnosis and patient_id')\n",
        "print(X_train_data.head())\n",
        "print('----------------------------------------------x-------------------------------')\n",
        "print(Y_train_data)"
      ],
      "metadata": {
        "colab": {
          "base_uri": "https://localhost:8080/"
        },
        "id": "JtFTBEk-agEB",
        "outputId": "0335a1ad-754f-49f9-b62a-c9fc4cc87163"
      },
      "execution_count": 136,
      "outputs": [
        {
          "output_type": "stream",
          "name": "stdout",
          "text": [
            "training data without diagnosis and patient_id\n",
            "   feature_1  feature_2  feature_3  feature_4  feature_5  feature_6  \\\n",
            "0   0.374540   0.950714   0.731994   0.598658   0.156019   0.155995   \n",
            "1   0.020584   0.969910   0.832443   0.212339   0.181825   0.183405   \n",
            "2   0.611853   0.139494   0.292145   0.366362   0.456070   0.785176   \n",
            "3   0.388677   0.271349   0.828738   0.356753   0.280935   0.542696   \n",
            "4   0.772245   0.198716   0.005522   0.815461   0.706857   0.729007   \n",
            "\n",
            "   feature_7  feature_8  feature_9  feature_10  \n",
            "0   0.058084   0.866176   0.601115    0.708073  \n",
            "1   0.304242   0.524756   0.431945    0.291229  \n",
            "2   0.199674   0.514234   0.592415    0.046450  \n",
            "3   0.140924   0.802197   0.074551    0.986887  \n",
            "4   0.771270   0.074045   0.358466    0.115869  \n",
            "----------------------------------------------x-------------------------------\n",
            "      diagnosis\n",
            "0             0\n",
            "1             0\n",
            "2             0\n",
            "3             0\n",
            "4             0\n",
            "...         ...\n",
            "3995          0\n",
            "3996          0\n",
            "3997          0\n",
            "3998          0\n",
            "3999          0\n",
            "\n",
            "[4000 rows x 1 columns]\n"
          ]
        }
      ]
    },
    {
      "cell_type": "code",
      "source": [
        "# shape of X and Y\n",
        "print('shape of X_train_data')\n",
        "print(X_train_data.shape)\n",
        "\n",
        "print('shape of Y_train_data')\n",
        "print(Y_train_data.shape)"
      ],
      "metadata": {
        "colab": {
          "base_uri": "https://localhost:8080/"
        },
        "id": "_mo5vQAjbe3Z",
        "outputId": "00faf252-c542-4bd9-84ed-6b86e42356e7"
      },
      "execution_count": 137,
      "outputs": [
        {
          "output_type": "stream",
          "name": "stdout",
          "text": [
            "shape of X_train_data\n",
            "(4000, 10)\n",
            "shape of Y_train_data\n",
            "(4000, 1)\n"
          ]
        }
      ]
    },
    {
      "cell_type": "code",
      "source": [
        "# Data Scaling (Standardization)\n",
        "\n",
        "# importing the library\n",
        "from sklearn.preprocessing import StandardScaler\n",
        "scaler = StandardScaler()\n",
        "\n",
        "# scaling the data\n",
        "X_train_scaled = scaler.fit_transform(X_train_data)\n",
        "print(X_train_scaled)"
      ],
      "metadata": {
        "colab": {
          "base_uri": "https://localhost:8080/"
        },
        "id": "IAMOS-pzbg_u",
        "outputId": "8f06c3c6-ba42-43bd-d95a-cd3f0aa67224"
      },
      "execution_count": 138,
      "outputs": [
        {
          "output_type": "stream",
          "name": "stdout",
          "text": [
            "[[-0.4206349   1.57714247  0.79787249 ...  1.27835292  0.34907553\n",
            "   0.73651792]\n",
            " [-1.64574854  1.64300297  1.14865677 ...  0.09582583 -0.24089442\n",
            "  -0.70362073]\n",
            " [ 0.40075371 -1.20617954 -0.7381575  ...  0.0593823   0.31873327\n",
            "  -1.54929869]\n",
            " ...\n",
            " [-0.70746736  1.73839464 -0.1787942  ...  1.68694239  0.34506989\n",
            "   0.59333007]\n",
            " [-0.97725701 -1.31813056  0.34394606 ... -0.09808097 -1.25247285\n",
            "   0.85091495]\n",
            " [ 0.12795962 -0.31469829  0.19597742 ...  0.87248949  0.06971741\n",
            "   1.26730343]]\n"
          ]
        }
      ]
    },
    {
      "cell_type": "code",
      "source": [
        "# Creating Polynomial Features\n",
        "# importing the library\n",
        "from sklearn.preprocessing import PolynomialFeatures\n",
        "poly_features = PolynomialFeatures(degree=2)\n",
        "X_train_polyn = poly_features.fit_transform(X_train_scaled)\n",
        "print(X_train_polyn)"
      ],
      "metadata": {
        "colab": {
          "base_uri": "https://localhost:8080/"
        },
        "id": "pWysxk0GbygW",
        "outputId": "c9f01b26-b754-4a1d-e3b3-d7a9718c59f8"
      },
      "execution_count": 139,
      "outputs": [
        {
          "output_type": "stream",
          "name": "stdout",
          "text": [
            "[[ 1.         -0.4206349   1.57714247 ...  0.12185373  0.25710039\n",
            "   0.54245865]\n",
            " [ 1.         -1.64574854  1.64300297 ...  0.05803012  0.16949831\n",
            "   0.49508213]\n",
            " [ 1.          0.40075371 -1.20617954 ...  0.1015909  -0.49381304\n",
            "   2.40032642]\n",
            " ...\n",
            " [ 1.         -0.70746736  1.73839464 ...  0.11907323  0.20474034\n",
            "   0.35204057]\n",
            " [ 1.         -0.97725701 -1.31813056 ...  1.56868825 -1.06574788\n",
            "   0.72405626]\n",
            " [ 1.          0.12795962 -0.31469829 ...  0.00486052  0.08835311\n",
            "   1.60605797]]\n"
          ]
        }
      ]
    },
    {
      "cell_type": "code",
      "source": [
        "# using SMOTE (to Handle class imbalance)\n",
        "from imblearn.over_sampling import SMOTE\n",
        "\n",
        "smote_data = SMOTE(random_state=30)\n",
        "X_train_new, Y_train_new = smote_data.fit_resample(X_train_polyn, Y_train_data)\n",
        "\n",
        "print(X_train_new.shape, Y_train_new.shape)"
      ],
      "metadata": {
        "colab": {
          "base_uri": "https://localhost:8080/"
        },
        "id": "joIH0hAkcAMW",
        "outputId": "b0acc762-14ec-48bb-8468-83e21940a09e"
      },
      "execution_count": 140,
      "outputs": [
        {
          "output_type": "stream",
          "name": "stdout",
          "text": [
            "(7608, 66) (7608, 1)\n"
          ]
        }
      ]
    },
    {
      "cell_type": "markdown",
      "source": [
        "#Model Training"
      ],
      "metadata": {
        "id": "AH9Zyal9cYh5"
      }
    },
    {
      "cell_type": "code",
      "source": [
        "# Splitting the data into training and validation sets\n",
        "from sklearn.model_selection import train_test_split\n",
        "\n",
        "X_train_final, X_values, Y_train_final, Y_values = train_test_split(X_train_new, Y_train_new, test_size=0.25, random_state=30, stratify=Y_train_new)\n",
        "print(X_train_final.shape, X_values.shape, Y_train_final.shape, Y_values.shape)"
      ],
      "metadata": {
        "colab": {
          "base_uri": "https://localhost:8080/"
        },
        "id": "SV5KyTHccbge",
        "outputId": "b6f35db4-8469-43dd-8d31-40810c77aacb"
      },
      "execution_count": 141,
      "outputs": [
        {
          "output_type": "stream",
          "name": "stdout",
          "text": [
            "(5706, 66) (1902, 66) (5706, 1) (1902, 1)\n"
          ]
        }
      ]
    },
    {
      "cell_type": "code",
      "source": [
        "# Choosing ML model and Hyperparameter Tuning\n",
        "# GradientBoosting\n",
        "from sklearn.ensemble import GradientBoostingClassifier\n",
        "from sklearn.model_selection import StratifiedKFold, RandomizedSearchCV\n",
        "from sklearn.metrics import roc_auc_score\n",
        "\n",
        "# Defining the Gradient Boosting model and parameter grid\n",
        "GB_model = GradientBoostingClassifier()\n",
        "parameters = {\n",
        "    'n_estimators': [50, 100, 200],\n",
        "    'learning_rate': [0.01, 0.1, 0.2],\n",
        "    'max_depth': [3, 4, 5],\n",
        "    'subsample': [0.8, 0.9, 1.0],\n",
        "    'min_samples_split': [2, 5, 10]\n",
        "}"
      ],
      "metadata": {
        "id": "yEe84FxNvVH1"
      },
      "execution_count": 142,
      "outputs": []
    },
    {
      "cell_type": "code",
      "source": [
        "# Initializing variables to keep track of the best model and ROC-AUC score\n",
        "best_model = None\n",
        "best_roc_auc = 0"
      ],
      "metadata": {
        "id": "IsKvTKy2vYez"
      },
      "execution_count": 143,
      "outputs": []
    },
    {
      "cell_type": "code",
      "source": [
        "# Setting up cross-validation\n",
        "GB_Cv = StratifiedKFold(n_splits=5, shuffle=True, random_state=30)\n",
        "\n",
        "# Performing Randomized search with cross-validation\n",
        "GB_random_search = RandomizedSearchCV(GB_model, parameters, cv=GB_Cv, scoring='roc_auc', n_jobs=-1)\n",
        "GB_random_search.fit(X_train_final, Y_train_final)"
      ],
      "metadata": {
        "colab": {
          "base_uri": "https://localhost:8080/",
          "height": 306
        },
        "id": "jnqH8F8awEZ4",
        "outputId": "4cac4815-cc67-4af5-e4bc-a6f843f2fb9f"
      },
      "execution_count": 109,
      "outputs": [
        {
          "output_type": "execute_result",
          "data": {
            "text/plain": [
              "RandomizedSearchCV(cv=StratifiedKFold(n_splits=5, random_state=30, shuffle=True),\n",
              "                   estimator=GradientBoostingClassifier(), n_jobs=-1,\n",
              "                   param_distributions={'learning_rate': [0.01, 0.1, 0.2],\n",
              "                                        'max_depth': [3, 4, 5],\n",
              "                                        'min_samples_split': [2, 5, 10],\n",
              "                                        'n_estimators': [50, 100, 200],\n",
              "                                        'subsample': [0.8, 0.9, 1.0]},\n",
              "                   scoring='roc_auc')"
            ],
            "text/html": [
              "<style>#sk-container-id-4 {color: black;background-color: white;}#sk-container-id-4 pre{padding: 0;}#sk-container-id-4 div.sk-toggleable {background-color: white;}#sk-container-id-4 label.sk-toggleable__label {cursor: pointer;display: block;width: 100%;margin-bottom: 0;padding: 0.3em;box-sizing: border-box;text-align: center;}#sk-container-id-4 label.sk-toggleable__label-arrow:before {content: \"▸\";float: left;margin-right: 0.25em;color: #696969;}#sk-container-id-4 label.sk-toggleable__label-arrow:hover:before {color: black;}#sk-container-id-4 div.sk-estimator:hover label.sk-toggleable__label-arrow:before {color: black;}#sk-container-id-4 div.sk-toggleable__content {max-height: 0;max-width: 0;overflow: hidden;text-align: left;background-color: #f0f8ff;}#sk-container-id-4 div.sk-toggleable__content pre {margin: 0.2em;color: black;border-radius: 0.25em;background-color: #f0f8ff;}#sk-container-id-4 input.sk-toggleable__control:checked~div.sk-toggleable__content {max-height: 200px;max-width: 100%;overflow: auto;}#sk-container-id-4 input.sk-toggleable__control:checked~label.sk-toggleable__label-arrow:before {content: \"▾\";}#sk-container-id-4 div.sk-estimator input.sk-toggleable__control:checked~label.sk-toggleable__label {background-color: #d4ebff;}#sk-container-id-4 div.sk-label input.sk-toggleable__control:checked~label.sk-toggleable__label {background-color: #d4ebff;}#sk-container-id-4 input.sk-hidden--visually {border: 0;clip: rect(1px 1px 1px 1px);clip: rect(1px, 1px, 1px, 1px);height: 1px;margin: -1px;overflow: hidden;padding: 0;position: absolute;width: 1px;}#sk-container-id-4 div.sk-estimator {font-family: monospace;background-color: #f0f8ff;border: 1px dotted black;border-radius: 0.25em;box-sizing: border-box;margin-bottom: 0.5em;}#sk-container-id-4 div.sk-estimator:hover {background-color: #d4ebff;}#sk-container-id-4 div.sk-parallel-item::after {content: \"\";width: 100%;border-bottom: 1px solid gray;flex-grow: 1;}#sk-container-id-4 div.sk-label:hover label.sk-toggleable__label {background-color: #d4ebff;}#sk-container-id-4 div.sk-serial::before {content: \"\";position: absolute;border-left: 1px solid gray;box-sizing: border-box;top: 0;bottom: 0;left: 50%;z-index: 0;}#sk-container-id-4 div.sk-serial {display: flex;flex-direction: column;align-items: center;background-color: white;padding-right: 0.2em;padding-left: 0.2em;position: relative;}#sk-container-id-4 div.sk-item {position: relative;z-index: 1;}#sk-container-id-4 div.sk-parallel {display: flex;align-items: stretch;justify-content: center;background-color: white;position: relative;}#sk-container-id-4 div.sk-item::before, #sk-container-id-4 div.sk-parallel-item::before {content: \"\";position: absolute;border-left: 1px solid gray;box-sizing: border-box;top: 0;bottom: 0;left: 50%;z-index: -1;}#sk-container-id-4 div.sk-parallel-item {display: flex;flex-direction: column;z-index: 1;position: relative;background-color: white;}#sk-container-id-4 div.sk-parallel-item:first-child::after {align-self: flex-end;width: 50%;}#sk-container-id-4 div.sk-parallel-item:last-child::after {align-self: flex-start;width: 50%;}#sk-container-id-4 div.sk-parallel-item:only-child::after {width: 0;}#sk-container-id-4 div.sk-dashed-wrapped {border: 1px dashed gray;margin: 0 0.4em 0.5em 0.4em;box-sizing: border-box;padding-bottom: 0.4em;background-color: white;}#sk-container-id-4 div.sk-label label {font-family: monospace;font-weight: bold;display: inline-block;line-height: 1.2em;}#sk-container-id-4 div.sk-label-container {text-align: center;}#sk-container-id-4 div.sk-container {/* jupyter's `normalize.less` sets `[hidden] { display: none; }` but bootstrap.min.css set `[hidden] { display: none !important; }` so we also need the `!important` here to be able to override the default hidden behavior on the sphinx rendered scikit-learn.org. See: https://github.com/scikit-learn/scikit-learn/issues/21755 */display: inline-block !important;position: relative;}#sk-container-id-4 div.sk-text-repr-fallback {display: none;}</style><div id=\"sk-container-id-4\" class=\"sk-top-container\"><div class=\"sk-text-repr-fallback\"><pre>RandomizedSearchCV(cv=StratifiedKFold(n_splits=5, random_state=30, shuffle=True),\n",
              "                   estimator=GradientBoostingClassifier(), n_jobs=-1,\n",
              "                   param_distributions={&#x27;learning_rate&#x27;: [0.01, 0.1, 0.2],\n",
              "                                        &#x27;max_depth&#x27;: [3, 4, 5],\n",
              "                                        &#x27;min_samples_split&#x27;: [2, 5, 10],\n",
              "                                        &#x27;n_estimators&#x27;: [50, 100, 200],\n",
              "                                        &#x27;subsample&#x27;: [0.8, 0.9, 1.0]},\n",
              "                   scoring=&#x27;roc_auc&#x27;)</pre><b>In a Jupyter environment, please rerun this cell to show the HTML representation or trust the notebook. <br />On GitHub, the HTML representation is unable to render, please try loading this page with nbviewer.org.</b></div><div class=\"sk-container\" hidden><div class=\"sk-item sk-dashed-wrapped\"><div class=\"sk-label-container\"><div class=\"sk-label sk-toggleable\"><input class=\"sk-toggleable__control sk-hidden--visually\" id=\"sk-estimator-id-10\" type=\"checkbox\" ><label for=\"sk-estimator-id-10\" class=\"sk-toggleable__label sk-toggleable__label-arrow\">RandomizedSearchCV</label><div class=\"sk-toggleable__content\"><pre>RandomizedSearchCV(cv=StratifiedKFold(n_splits=5, random_state=30, shuffle=True),\n",
              "                   estimator=GradientBoostingClassifier(), n_jobs=-1,\n",
              "                   param_distributions={&#x27;learning_rate&#x27;: [0.01, 0.1, 0.2],\n",
              "                                        &#x27;max_depth&#x27;: [3, 4, 5],\n",
              "                                        &#x27;min_samples_split&#x27;: [2, 5, 10],\n",
              "                                        &#x27;n_estimators&#x27;: [50, 100, 200],\n",
              "                                        &#x27;subsample&#x27;: [0.8, 0.9, 1.0]},\n",
              "                   scoring=&#x27;roc_auc&#x27;)</pre></div></div></div><div class=\"sk-parallel\"><div class=\"sk-parallel-item\"><div class=\"sk-item\"><div class=\"sk-label-container\"><div class=\"sk-label sk-toggleable\"><input class=\"sk-toggleable__control sk-hidden--visually\" id=\"sk-estimator-id-11\" type=\"checkbox\" ><label for=\"sk-estimator-id-11\" class=\"sk-toggleable__label sk-toggleable__label-arrow\">estimator: GradientBoostingClassifier</label><div class=\"sk-toggleable__content\"><pre>GradientBoostingClassifier()</pre></div></div></div><div class=\"sk-serial\"><div class=\"sk-item\"><div class=\"sk-estimator sk-toggleable\"><input class=\"sk-toggleable__control sk-hidden--visually\" id=\"sk-estimator-id-12\" type=\"checkbox\" ><label for=\"sk-estimator-id-12\" class=\"sk-toggleable__label sk-toggleable__label-arrow\">GradientBoostingClassifier</label><div class=\"sk-toggleable__content\"><pre>GradientBoostingClassifier()</pre></div></div></div></div></div></div></div></div></div></div>"
            ]
          },
          "metadata": {},
          "execution_count": 109
        }
      ]
    },
    {
      "cell_type": "code",
      "source": [
        "#Evaluating the model on the validation set\n",
        "RandomizedSearchCV_results = pd.DataFrame(GB_random_search.cv_results_)\n",
        "print(RandomizedSearchCV_results)"
      ],
      "metadata": {
        "colab": {
          "base_uri": "https://localhost:8080/"
        },
        "id": "Xjqs9dWRwEWX",
        "outputId": "8b305c73-338a-41ec-b945-47f2b51d48e8"
      },
      "execution_count": 144,
      "outputs": [
        {
          "output_type": "stream",
          "name": "stdout",
          "text": [
            "   mean_fit_time  std_fit_time  mean_score_time  std_score_time  \\\n",
            "0      40.976109      3.228498         0.010067        0.000326   \n",
            "1      29.437495      0.564527         0.009700        0.002372   \n",
            "2      17.200328      1.439866         0.012040        0.005112   \n",
            "3      10.368994      0.561085         0.007023        0.003055   \n",
            "4      11.641002      0.697751         0.008199        0.004485   \n",
            "5      14.546160      0.146434         0.008011        0.002877   \n",
            "6      10.003765      0.831652         0.006360        0.001372   \n",
            "7      25.035178      2.317946         0.008575        0.002500   \n",
            "8      32.548136      0.266133         0.008977        0.001450   \n",
            "9      40.151883      3.408254         0.011676        0.001719   \n",
            "\n",
            "  param_subsample param_n_estimators param_min_samples_split param_max_depth  \\\n",
            "0             0.9                200                       2               3   \n",
            "1             0.9                100                       5               5   \n",
            "2             0.8                100                       2               3   \n",
            "3             1.0                 50                      10               3   \n",
            "4             0.9                 50                      10               4   \n",
            "5             0.9                 50                      10               5   \n",
            "6             1.0                 50                      10               3   \n",
            "7             0.9                100                       5               4   \n",
            "8             1.0                100                       2               5   \n",
            "9             0.8                200                       5               4   \n",
            "\n",
            "  param_learning_rate                                             params  \\\n",
            "0                 0.1  {'subsample': 0.9, 'n_estimators': 200, 'min_s...   \n",
            "1                0.01  {'subsample': 0.9, 'n_estimators': 100, 'min_s...   \n",
            "2                0.01  {'subsample': 0.8, 'n_estimators': 100, 'min_s...   \n",
            "3                 0.2  {'subsample': 1.0, 'n_estimators': 50, 'min_sa...   \n",
            "4                 0.2  {'subsample': 0.9, 'n_estimators': 50, 'min_sa...   \n",
            "5                 0.2  {'subsample': 0.9, 'n_estimators': 50, 'min_sa...   \n",
            "6                 0.1  {'subsample': 1.0, 'n_estimators': 50, 'min_sa...   \n",
            "7                0.01  {'subsample': 0.9, 'n_estimators': 100, 'min_s...   \n",
            "8                0.01  {'subsample': 1.0, 'n_estimators': 100, 'min_s...   \n",
            "9                 0.2  {'subsample': 0.8, 'n_estimators': 200, 'min_s...   \n",
            "\n",
            "   split0_test_score  split1_test_score  split2_test_score  split3_test_score  \\\n",
            "0           0.979003           0.973451           0.986948           0.977595   \n",
            "1           0.924638           0.917972           0.940492           0.919613   \n",
            "2           0.852157           0.844400           0.879487           0.849524   \n",
            "3           0.950785           0.945645           0.964617           0.950336   \n",
            "4           0.974969           0.972283           0.986515           0.974314   \n",
            "5           0.990477           0.986208           0.990091           0.989151   \n",
            "6           0.928925           0.922177           0.942609           0.921258   \n",
            "7           0.895104           0.886712           0.910367           0.885824   \n",
            "8           0.920478           0.910660           0.937504           0.915395   \n",
            "9           0.995777           0.994562           0.998783           0.996169   \n",
            "\n",
            "   split4_test_score  mean_test_score  std_test_score  rank_test_score  \n",
            "0           0.984214         0.980242        0.004804                3  \n",
            "1           0.918109         0.924165        0.008515                7  \n",
            "2           0.851751         0.855464        0.012325               10  \n",
            "3           0.958134         0.953904        0.006683                5  \n",
            "4           0.979132         0.977443        0.005053                4  \n",
            "5           0.992792         0.989744        0.002136                2  \n",
            "6           0.937890         0.930572        0.008466                6  \n",
            "7           0.890163         0.893634        0.008979                9  \n",
            "8           0.916619         0.920131        0.009235                8  \n",
            "9           0.996433         0.996345        0.001377                1  \n"
          ]
        }
      ]
    },
    {
      "cell_type": "code",
      "source": [
        "# Evaluating the GradientBoosting model on the validation set\n",
        "Y_pred = GB_random_search.predict(X_values)\n",
        "\n",
        "# Calculating the ROC-AUC score\n",
        "roc_auc = roc_auc_score(Y_values, Y_pred)\n",
        "print(f'Validation ROC-AUC score with GradientBoostingClassifier: {roc_auc}')"
      ],
      "metadata": {
        "colab": {
          "base_uri": "https://localhost:8080/"
        },
        "id": "0F03FELxk8Fp",
        "outputId": "5b3085e5-0db4-4225-8107-eaa69482ca19"
      },
      "execution_count": 145,
      "outputs": [
        {
          "output_type": "stream",
          "name": "stdout",
          "text": [
            "Validation ROC-AUC score with GradientBoostingClassifier: 0.9800210304942167\n"
          ]
        }
      ]
    },
    {
      "cell_type": "code",
      "source": [
        "# Updating the best model and ROC-AUC score\n",
        "if roc_auc > best_roc_auc:\n",
        "    best_roc_auc = roc_auc\n",
        "    best_model = GB_random_search.best_estimator_"
      ],
      "metadata": {
        "id": "jsR4sH69fhpL"
      },
      "execution_count": 146,
      "outputs": []
    },
    {
      "cell_type": "code",
      "source": [
        "print(f\"Best Model on Validation set is: {best_model}\")\n",
        "\n",
        "print(f\"Best Validation ROC-AUC score is: {best_roc_auc}\")"
      ],
      "metadata": {
        "colab": {
          "base_uri": "https://localhost:8080/"
        },
        "id": "qDlhrNEPhcr-",
        "outputId": "a64c03a1-67f3-472a-acd6-ec97ffaff019"
      },
      "execution_count": 147,
      "outputs": [
        {
          "output_type": "stream",
          "name": "stdout",
          "text": [
            "Best Model on Validation set is: GradientBoostingClassifier(learning_rate=0.2, max_depth=4, min_samples_split=5,\n",
            "                           n_estimators=200, subsample=0.8)\n",
            "Best Validation ROC-AUC score is: 0.9800210304942167\n"
          ]
        }
      ]
    },
    {
      "cell_type": "code",
      "source": [
        "# Predicting probabilities for the training data\n",
        "y_train_pred = best_model.predict_proba(X_train_final)[:, 1]\n",
        "\n",
        "# Calculating the ROC-AUC score for the training data\n",
        "train_roc_auc = roc_auc_score(Y_train_final, y_train_pred)\n",
        "\n",
        "print(f'Training ROC-AUC score: {train_roc_auc}')"
      ],
      "metadata": {
        "colab": {
          "base_uri": "https://localhost:8080/"
        },
        "id": "dSnh52HimJTE",
        "outputId": "e2cc1ad6-77be-4395-8fa2-10613927e0dd"
      },
      "execution_count": 148,
      "outputs": [
        {
          "output_type": "stream",
          "name": "stdout",
          "text": [
            "Training ROC-AUC score: 1.0\n"
          ]
        }
      ]
    },
    {
      "cell_type": "code",
      "source": [
        "print(f'Training ROC-AUC score: {train_roc_auc}')\n",
        "val_roc_auc = best_roc_auc\n",
        "print(f'Validation ROC-AUC score: {val_roc_auc}')"
      ],
      "metadata": {
        "colab": {
          "base_uri": "https://localhost:8080/"
        },
        "id": "B1iQO_DAnKaw",
        "outputId": "6694d6a4-e462-4f76-d961-e035c57f96cc"
      },
      "execution_count": 149,
      "outputs": [
        {
          "output_type": "stream",
          "name": "stdout",
          "text": [
            "Training ROC-AUC score: 1.0\n",
            "Validation ROC-AUC score: 0.9800210304942167\n"
          ]
        }
      ]
    },
    {
      "cell_type": "code",
      "source": [
        "# Calculating the difference between training and validation ROC-AUC scores\n",
        "difference = train_roc_auc - val_roc_auc\n",
        "print(f'Difference between training and validation ROC-AUC scores: {difference}')\n",
        "\n",
        "# Checking if the model is overfitting or underfitting\n",
        "if difference > 0.05:\n",
        "    print(\"The model is overfitting.\")\n",
        "elif difference < -0.05:\n",
        "    print(\"The model is underfitting.\")\n",
        "else:\n",
        "    print(\"The model is a good fit\")"
      ],
      "metadata": {
        "colab": {
          "base_uri": "https://localhost:8080/"
        },
        "id": "b_ccjeI8nj03",
        "outputId": "2c5b098f-14bb-419b-cc62-34f918cd2ce0"
      },
      "execution_count": 150,
      "outputs": [
        {
          "output_type": "stream",
          "name": "stdout",
          "text": [
            "Difference between training and validation ROC-AUC scores: 0.01997896950578326\n",
            "The model is a good fit\n"
          ]
        }
      ]
    },
    {
      "cell_type": "code",
      "source": [
        "# Calculating other metrics\n",
        "from sklearn.metrics import accuracy_score, precision_score, recall_score, f1_score\n",
        "accuracy = accuracy_score(Y_values, Y_pred)\n",
        "precision = precision_score(Y_values, Y_pred)\n",
        "recall = recall_score(Y_values, Y_pred)\n",
        "f1 = f1_score(Y_values, Y_pred)\n",
        "\n",
        "# for Validation set\n",
        "print(f'Accuracy: {accuracy}')\n",
        "print(f'Precision: {precision}')\n",
        "print(f'Recall: {recall}')\n",
        "print(f'F1-score: {f1}')"
      ],
      "metadata": {
        "colab": {
          "base_uri": "https://localhost:8080/"
        },
        "id": "mnDzSeo_n1MX",
        "outputId": "449596b8-1c5b-486b-fa68-83dd55c1f26a"
      },
      "execution_count": 151,
      "outputs": [
        {
          "output_type": "stream",
          "name": "stdout",
          "text": [
            "Accuracy: 0.9800210304942166\n",
            "Precision: 0.9740394600207685\n",
            "Recall: 0.9863301787592008\n",
            "F1-score: 0.980146290491118\n"
          ]
        }
      ]
    },
    {
      "cell_type": "code",
      "source": [
        "from sklearn.metrics import classification_report\n",
        "\n",
        "# Generating the classification report\n",
        "classification_rep = classification_report(Y_values, Y_pred)\n",
        "print(classification_rep)"
      ],
      "metadata": {
        "colab": {
          "base_uri": "https://localhost:8080/"
        },
        "id": "8E4QY4-XoB9z",
        "outputId": "335101ad-db71-487d-e7ae-372ae55185be"
      },
      "execution_count": 161,
      "outputs": [
        {
          "output_type": "stream",
          "name": "stdout",
          "text": [
            "              precision    recall  f1-score   support\n",
            "\n",
            "           0       0.99      0.97      0.98       951\n",
            "           1       0.97      0.99      0.98       951\n",
            "\n",
            "    accuracy                           0.98      1902\n",
            "   macro avg       0.98      0.98      0.98      1902\n",
            "weighted avg       0.98      0.98      0.98      1902\n",
            "\n"
          ]
        }
      ]
    },
    {
      "cell_type": "code",
      "source": [
        "# Make predictions on the test dataset\n",
        "# Loading Test data\n",
        "test_dataframe = pd.read_csv('/content/Disease_test.csv')\n",
        "# displaying first few rows of test data\n",
        "print(test_dataframe.head())\n",
        "X_test = test_dataframe.drop(columns=['patient_id'])\n",
        "# shape of test data after dropping patient_id\n",
        "print('Shape of test data:',X_test.shape)"
      ],
      "metadata": {
        "colab": {
          "base_uri": "https://localhost:8080/"
        },
        "id": "xgjknvqyonkp",
        "outputId": "a9c27091-37fb-46b8-91db-f791be078dbc"
      },
      "execution_count": 162,
      "outputs": [
        {
          "output_type": "stream",
          "name": "stdout",
          "text": [
            "   feature_1  feature_2  feature_3  feature_4  feature_5  feature_6  \\\n",
            "0   0.607545   0.170524   0.065052   0.948886   0.965632   0.808397   \n",
            "1   0.122038   0.495177   0.034389   0.909320   0.258780   0.662522   \n",
            "2   0.969585   0.775133   0.939499   0.894827   0.597900   0.921874   \n",
            "3   0.119594   0.713245   0.760785   0.561277   0.770967   0.493796   \n",
            "4   0.289751   0.161221   0.929698   0.808120   0.633404   0.871461   \n",
            "\n",
            "   feature_7  feature_8  feature_9  feature_10  patient_id  \n",
            "0   0.304614   0.097672   0.684233    0.440152           4  \n",
            "1   0.311711   0.520068   0.546710    0.184854           5  \n",
            "2   0.088493   0.195983   0.045227    0.325330           6  \n",
            "3   0.522733   0.427541   0.025419    0.107891          10  \n",
            "4   0.803672   0.186570   0.892559    0.539342          12  \n",
            "Shape of test data: (1000, 10)\n"
          ]
        }
      ]
    },
    {
      "cell_type": "code",
      "source": [
        "#Scaling\n",
        "X_test_scaled = scaler.transform(X_test)\n",
        "X_test_polyn = poly_features.transform(X_test_scaled)\n",
        "\n",
        "# Making predictions on the test dataset\n",
        "test_predictions = best_model.predict(X_test_polyn)"
      ],
      "metadata": {
        "id": "3N2r3vIto8NS"
      },
      "execution_count": 163,
      "outputs": []
    },
    {
      "cell_type": "code",
      "source": [
        "# Creating a DataFrame with the predictions\n",
        "predictions = pd.DataFrame({\n",
        "    'patient_id': test_dataframe['patient_id'],\n",
        "    'prediction': test_predictions\n",
        "})\n",
        "\n",
        "# Printing the predictions\n",
        "print(\"Test Predictions:\")\n",
        "print(predictions.head(10))"
      ],
      "metadata": {
        "colab": {
          "base_uri": "https://localhost:8080/"
        },
        "id": "KNsPT3ghppZm",
        "outputId": "663de97b-efd1-4806-a0c9-a52cf7b1a58a"
      },
      "execution_count": 122,
      "outputs": [
        {
          "output_type": "stream",
          "name": "stdout",
          "text": [
            "Test Predictions:\n",
            "   patient_id  prediction\n",
            "0           4           0\n",
            "1           5           0\n",
            "2           6           0\n",
            "3          10           0\n",
            "4          12           0\n",
            "5          18           0\n",
            "6          36           0\n",
            "7          57           0\n",
            "8          66           0\n",
            "9          71           0\n"
          ]
        }
      ]
    },
    {
      "cell_type": "code",
      "source": [
        "# Counting number of zeros and ones in predictions\n",
        "no_of_zeros = predictions['prediction'].value_counts().get(0, 0)\n",
        "no_of_ones = predictions['prediction'].value_counts().get(1, 0)\n",
        "\n",
        "print(\"Test Predictions:\")\n",
        "print(f\"Number of zeros: {no_of_zeros}\")\n",
        "print(f\"Number of ones: {no_of_ones}\")"
      ],
      "metadata": {
        "colab": {
          "base_uri": "https://localhost:8080/"
        },
        "id": "BXpfY0K_p0d6",
        "outputId": "fc81536a-e343-43c9-8350-41b45a4b1301"
      },
      "execution_count": 164,
      "outputs": [
        {
          "output_type": "stream",
          "name": "stdout",
          "text": [
            "Test Predictions:\n",
            "Number of zeros: 966\n",
            "Number of ones: 34\n"
          ]
        }
      ]
    },
    {
      "cell_type": "code",
      "source": [
        "# Filtering patients with prediction 1\n",
        "patients_with_prediction_1 = predictions[predictions['prediction'] == 1]\n",
        "\n",
        "print(patients_with_prediction_1)\n",
        "print(patients_with_prediction_1.shape)"
      ],
      "metadata": {
        "colab": {
          "base_uri": "https://localhost:8080/"
        },
        "id": "LhJuN5nUqkTD",
        "outputId": "03f4d55a-c2b8-41c2-b015-5744d179248f"
      },
      "execution_count": 165,
      "outputs": [
        {
          "output_type": "stream",
          "name": "stdout",
          "text": [
            "     patient_id  prediction\n",
            "41          219           1\n",
            "124         697           1\n",
            "135         743           1\n",
            "189        1010           1\n",
            "226        1214           1\n",
            "234        1248           1\n",
            "237        1267           1\n",
            "249        1337           1\n",
            "262        1387           1\n",
            "312        1694           1\n",
            "402        2080           1\n",
            "420        2147           1\n",
            "424        2157           1\n",
            "487        2462           1\n",
            "555        2830           1\n",
            "584        2931           1\n",
            "600        2991           1\n",
            "630        3104           1\n",
            "633        3110           1\n",
            "649        3204           1\n",
            "665        3267           1\n",
            "692        3400           1\n",
            "742        3627           1\n",
            "744        3637           1\n",
            "747        3652           1\n",
            "767        3764           1\n",
            "771        3778           1\n",
            "785        3868           1\n",
            "806        3965           1\n",
            "821        4057           1\n",
            "831        4126           1\n",
            "844        4207           1\n",
            "895        4406           1\n",
            "931        4607           1\n",
            "(34, 2)\n"
          ]
        }
      ]
    },
    {
      "cell_type": "code",
      "source": [
        "# Predicting on Test Set\n",
        "Y_test_pred = best_model.predict_proba(X_test_polyn)[:, 1]\n",
        "\n",
        "# Creating DataFrame:\n",
        "predictions_df = pd.DataFrame({'patient_id': test_dataframe['patient_id'], 'diagnosis': Y_test_pred})\n",
        "\n",
        "# Printing the predictions\n",
        "print(\"Test Predictions:\")\n",
        "print(predictions_df.head(10))"
      ],
      "metadata": {
        "colab": {
          "base_uri": "https://localhost:8080/"
        },
        "id": "wDmorqF3qr72",
        "outputId": "84c64a2f-9168-40f1-9e4a-88a14c34ca4f"
      },
      "execution_count": 166,
      "outputs": [
        {
          "output_type": "stream",
          "name": "stdout",
          "text": [
            "Test Predictions:\n",
            "   patient_id  diagnosis\n",
            "0           4   0.000335\n",
            "1           5   0.002364\n",
            "2           6   0.000272\n",
            "3          10   0.009034\n",
            "4          12   0.083286\n",
            "5          18   0.101041\n",
            "6          36   0.005930\n",
            "7          57   0.008903\n",
            "8          66   0.240296\n",
            "9          71   0.015591\n"
          ]
        }
      ]
    },
    {
      "cell_type": "code",
      "source": [
        "# Save Predictions to CSV\n",
        "predictions.to_csv('SE22UCSE249_predictions.csv.', index=False)\n",
        "print(\"Predictions saved to 'SE22UCSE249_predictions.csv'.\")"
      ],
      "metadata": {
        "colab": {
          "base_uri": "https://localhost:8080/"
        },
        "id": "6HPkzorerZTi",
        "outputId": "559d901c-6209-42e8-ae16-57ee8d4f30b0"
      },
      "execution_count": 167,
      "outputs": [
        {
          "output_type": "stream",
          "name": "stdout",
          "text": [
            "Predictions saved to 'SE22UCSE249_predictions.csv'.\n"
          ]
        }
      ]
    }
  ]
}